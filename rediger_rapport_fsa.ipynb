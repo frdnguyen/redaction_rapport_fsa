{
 "cells": [
  {
   "cell_type": "markdown",
   "metadata": {
    "slideshow": {
     "slide_type": "slide"
    }
   },
   "source": [
    "---\n",
    "# REDIGER UN RAPPORT en SCIENCES APPLIQUEES\n",
    "---\n",
    "## Quelques principes de base"
   ]
  },
  {
   "cell_type": "markdown",
   "metadata": {
    "slideshow": {
     "slide_type": "slide"
    }
   },
   "source": [
    "---\n",
    "# Structure\n",
    " ---\n",
    " ### 1. Page de garde \n",
    " ### 2. Introduction\n",
    " ### 3. <span style=\"color:red\">Corps du rapport</span>\n",
    " ### 4. Conclusions et perspectives\n",
    " ### 5. Bibliographie\n",
    "### 6. Listes des tableaux et figures \n",
    " ### 7. Tables des matières\n",
    " ### 8. Annexes\n"
   ]
  },
  {
   "cell_type": "markdown",
   "metadata": {
    "slideshow": {
     "slide_type": "slide"
    }
   },
   "source": [
    "---\n",
    "# 1. Page de garde\n",
    "---\n",
    "* Filière d'études\n",
    "* Année académique\n",
    "* (Date)\n",
    "* (Intitulé du cours)\n",
    "* Titre du projet\n",
    "* Nom(s) du ou des auteur.e.(s)"
   ]
  },
  {
   "cell_type": "markdown",
   "metadata": {
    "slideshow": {
     "slide_type": "subslide"
    }
   },
   "source": [
    "---\n",
    "# Exemple\n",
    "---\n",
    "<div style=\"text-align:center\"><span style=\"color:black\"> Premier bachelier en sciences de l'ingénieur  </span></div>\n",
    "\n",
    "<div style=\"text-align:center\"><span style=\"color:black\"> Année académique 2020-2021  </span></div>\n",
    "\n",
    "# <div style=\"text-align:center\"><span style=\"color:black\"> Introduction aux méthodes numériques et projet (PROJ0001-1): Etude de la propagation de l'épidémie de COVID-19 .</span></div>\n",
    "\n",
    "<div style=\"text-align:center\"><span style=\"color:black\"> Travail réalisé par... </span></div>\n",
    "\n",
    "\n"
   ]
  },
  {
   "cell_type": "markdown",
   "metadata": {
    "slideshow": {
     "slide_type": "slide"
    }
   },
   "source": [
    "---\n",
    "# 2. Introduction\n",
    "---\n",
    "Rendre compte des points principaux traités dans le rapport : \n",
    "\n",
    "* rappel succinct de la question centrale,\n",
    "* brève description des méthodes employées …\n",
    "* … et des résultats obtenus, \n",
    "* éléments principaux de la conclusion. \n",
    "\n",
    "***\n",
    "* Clôturer par la présentation des différentes <span style=\"color:red\">sections</span> du corps du rapport.\n",
    "***"
   ]
  },
  {
   "cell_type": "markdown",
   "metadata": {
    "slideshow": {
     "slide_type": "subslide"
    }
   },
   "source": [
    "\n",
    "<img align=\"center\" width=\"480\" src=repetition_enonce.png>\n",
    "\n",
    "<div class=\"alert alert-block alert-info\">\n",
    "<b> \n",
    "Dans ce projet, il n'est pas nécessaire de faire une introduction et il est inutile de répéter l'énoncé.\n",
    "</div> \n"
   ]
  },
  {
   "cell_type": "markdown",
   "metadata": {
    "slideshow": {
     "slide_type": "slide"
    }
   },
   "source": [
    "---\n",
    "# 3. Corps de rapport\n",
    "---\n",
    "## 3.1 Fond (1/3)\n",
    "Se centrer sur une <span style=\"color:red\"> présentation rigoureuse de la démarche réalisée</span>\n",
    "sans s'appesantir sur ses errements éventuels\n",
    "\n",
    "DONC : Etre à la fois:\n",
    "<div class=\"alert alert-block alert-info\">\n",
    "<b> \n",
    "précis,\n",
    "</div>\n",
    "    <div class=\"alert alert-block alert-warning\">\n",
    "<b> \n",
    "complet,\n",
    "</div>\n",
    "        <div class=\"alert alert-block alert-success\">\n",
    "<b> \n",
    "concis,\n",
    "</div>"
   ]
  },
  {
   "cell_type": "markdown",
   "metadata": {
    "slideshow": {
     "slide_type": "subslide"
    }
   },
   "source": [
    "# Justification du choix de méthodes\n",
    "\n",
    "---\n",
    "Exemple 1: *Le tir sur la cible sera effectué en changeant les signaux d'excitations à un certain moment t1. Deux des moyens les plus efficaces pour trouver ce moment t1 sont la bissection et la méthoe de la sécante. Nous avons choisi la première solution, la bissection.*\n",
    "\n",
    "\n",
    "<div class=\"alert alert-block alert-danger\">\n",
    "<b> Il manque la justification\n",
    "</div>\n",
    "\n",
    "Exemple 2: *Nous avons choisi d'utiliser la méthode de la bissection pour sa robustesse. En effet, cette méthode converge touhours pour autant que les points de départ soient correctement choisis. Le premier point doit être pris négatif et le second positif ou inversément selon qu ela fonction est croissante ou décroissante au niveau de la racine* \n",
    "\n",
    "<div class=\"alert alert-block alert-success\">\n",
    "<b> L'étudiant.e. justifie le choix de la méthode.\n",
    "</div> "
   ]
  },
  {
   "cell_type": "markdown",
   "metadata": {
    "slideshow": {
     "slide_type": "subslide"
    }
   },
   "source": [
    "# Justification des choix numériques des méthodes\n",
    "Exemple 1: *La résolution de ce système se fait par l'intermédiaire de la fonction `solve_ivp` de la librairie `SciPy` qui fut choisie pour sa précision. Elle utilise la méthode de Runge-Kutta pour la résolution d'équations différentielles.*\n",
    "<div class=\"alert alert-block alert-danger\">\n",
    "<b> La précision du solveur n'est pas mentionnée.\n",
    "</div>\n",
    "    \n",
    "Exemple 2: *Le paramètre du solveur que nous avons modifié est `rtol`. Il s'agit de la tolérance sur l'erreur relative des valeurs retournées lorsque `solve_ivp` est appelé. D'après la documentation de `SciPy`, [...]. En optant pour la valeur de 0.0001 pour `rtol`, nous avons remarqué aucun problème et c'est donc naturellement que cette valeur s'est iposée en option du solveur utilisé.*\n",
    "    \n",
    "<div class=\"alert alert-block alert-success\">\n",
    "<b> La précision du solveur est explicitée. On pourrait ajouter un tableau comparatif pour analyser l'erreur commise par le solveur.\n",
    "</div> "
   ]
  },
  {
   "cell_type": "markdown",
   "metadata": {
    "slideshow": {
     "slide_type": "subslide"
    }
   },
   "source": [
    "---\n",
    "# Corps du rapport\n",
    "---\n",
    "## 3.1 Fond (2/3)\n",
    "\n",
    "<span style=\"color:red\"> Le code ne peut pas être repris dans le corps du rapport : </span>  il n’est pas fait pour être lu par un humain ! \n",
    "\n",
    "<span style=\"color:red\"> Le code ne doit pas être expliqué pas à pas, décrit ligne par ligne : </span>  c’est la démarche globale qui doit être présentée.\n",
    "\n"
   ]
  },
  {
   "cell_type": "markdown",
   "metadata": {
    "slideshow": {
     "slide_type": "subslide"
    }
   },
   "source": [
    "# Pas de code dans le rapport !\n",
    "Example 1: Interpolation de la fonction *f*. La démarche est sensiblement la même que pour la fonction *y*. Nous avons ici choisi les points `(0, 0)`, `(0.02, 0.35)` et `(0.04, 1.3)`. Le code suivant\n",
    "```python\n",
    "from numpy.polynomial.polynomial import polyfit\n",
    "w = [0, 0.02, 0.04]\n",
    "y = [0, 0.35, 1.3]\n",
    "p = polyfit(w,y,2)\n",
    "```\n",
    "nous permet alors de définir* $$ f(x)=750x^2 + 2.5x  $$\n",
    "\n",
    "<div class=\"alert alert-block alert-danger\">\n",
    "<b> Le rapport devient illisible et il y a peu de place pour justifier par exemple le choix des points.\n",
    "</div>\n",
    "\n"
   ]
  },
  {
   "cell_type": "markdown",
   "metadata": {
    "slideshow": {
     "slide_type": "subslide"
    }
   },
   "source": [
    "Exemple 2: Deux fonctions ne possédaient pas d'expression analytique : *f* et *y*. Nous avons procédé à une interpolation à partir des graphiques donnés. Nous avons manuellement déterminé quelques points des graphes que nous avons fourni à la fonction `polyfit`. Nous avons évité des points équidistants et symmétriquement choisis par rapport à un extremum et nous avons privilégié des points aux extrémités de l'intervalle. En effet, ces conditions nous permettent d'obtenir une meilleure interpolation comme illustré à la figure 3. \n",
    "    \n",
    "<div class=\"alert alert-block alert-success\">\n",
    "<b> Le texte explique le choix des points et illustre la pertinence de ce choix.\n",
    "</div> \n",
    "\n"
   ]
  },
  {
   "cell_type": "markdown",
   "metadata": {
    "slideshow": {
     "slide_type": "subslide"
    }
   },
   "source": [
    "---\n",
    "# 3. Corps du rapport\n",
    "---\n",
    "## 3.1 Fond (3/3)\n",
    "Veiller à l'<span style=\"color:red\">uniformité</span> des notations employées...\n",
    "\n",
    "...et au respect des <span style=\"color:red\">conventions</span> d'usage dans le (les) domaine(s) concerné(s).\n",
    "\n",
    "<span style=\"color:red\"> Illustrer le texte par des figures ad-hoc.</span>"
   ]
  },
  {
   "cell_type": "markdown",
   "metadata": {
    "slideshow": {
     "slide_type": "subslide"
    }
   },
   "source": [
    "# Note de bas de page à utiliser avec parcimonie\n",
    "\n",
    "Exemple 1: Une fois ce scénario d'émission déini, nous faison appel au solveur `solve_ivp`<sup>3</sup> de la librairie `SciPy` de la librairie `SciPy`pour tracer le graphique et trouver le point d'équilibre de la température que l'on voulait observer au départ. Nous obtenons les graphiques suivants.\n",
    "\n",
    "---\n",
    "<sup>3</sup> *Tout comme pour la question 2, nous avons joué sur les options du solveur afin d'arrêter le calcul des dérivées une fois l'équilibre atteint.*\n",
    "\n",
    "<div class=\"alert alert-block alert-danger\">\n",
    "<b> Des éléments importants sont reportés en notes de bas de page et ne sont pas détaillés.\n",
    "</div> \n",
    "    \n",
    "Exemple 2: \n",
    "$$ f(x)= a(x-x_1)(x-x_2)^2 $$\n",
    "    \n",
    "---\n",
    "<sup>2</sup> Expression générale d'une fonction du second degré\n",
    "    \n",
    "<div class=\"alert alert-block alert-danger\">\n",
    "<b> On introduite confusion entre l'exposant et la note de bas de page.\n",
    "</div> "
   ]
  },
  {
   "cell_type": "markdown",
   "metadata": {
    "slideshow": {
     "slide_type": "slide"
    }
   },
   "source": [
    "---\n",
    "# 3. Corps du rapport\n",
    "---\n",
    "# 3.2 Forme\n",
    "\n",
    "* Etre attentif à l’orthographe et aux règles grammaticales de la langue utilisée.\n",
    "\n",
    "* Veiller à la « sobriété » et à l’uniformité de la présentation.\n"
   ]
  },
  {
   "cell_type": "markdown",
   "metadata": {
    "slideshow": {
     "slide_type": "subslide"
    }
   },
   "source": [
    "# Mise en page\n",
    "\n",
    "<span style=\"font-family:Papyrus\">Evitez les polices de caractères peu lisibles. </span>\n",
    "\n",
    "\n",
    "<span style=\"font-family:Papyrus; font-size:4em;\">Rien ne sert d'augmenter la taille de la police pour \"meubler\". </span>"
   ]
  },
  {
   "cell_type": "markdown",
   "metadata": {
    "slideshow": {
     "slide_type": "subslide"
    }
   },
   "source": [
    "# Mise en page : <span style=\"color:green\">Optez pour une mise en page sobre, aérée, rigoureuse et structurée</span>\n",
    " \n",
    "\n",
    "<img align=\"center\" width=\"360\" src=mise_en_page.png>\n",
    "\n",
    "\n"
   ]
  },
  {
   "cell_type": "markdown",
   "metadata": {
    "slideshow": {
     "slide_type": "subslide"
    }
   },
   "source": [
    "# Mise en page : <span style=\"color:red\">  Evitez d'insérer les graphiques dans le texte et d'écrire de trop long paragraphe.</span>\n",
    "\n",
    "<img align=\"center\" width=\"360\" src=mise_en_page2.png>\n",
    "\n"
   ]
  },
  {
   "cell_type": "markdown",
   "metadata": {
    "slideshow": {
     "slide_type": "subslide"
    }
   },
   "source": [
    "---\n",
    "# 3. Corps du rapport\n",
    "---\n",
    "# 3.2 Forme\n",
    "Découper le texte en\n",
    "\n",
    "1. Sections\n",
    "\n",
    "    1.1 Sous-sections\n",
    "    \n",
    "        1.1.1. Sous-sous-sections\n",
    "\n",
    "en respectant la numérotation et en n'exagérant pas dans le découpage..."
   ]
  },
  {
   "cell_type": "markdown",
   "metadata": {
    "slideshow": {
     "slide_type": "subslide"
    }
   },
   "source": [
    "---\n",
    "# 3. Corps du rapport\n",
    "---\n",
    "# 3.2 Forme\n",
    "* Numéroter les **tableaux** \n",
    "* leur donner un **titre** (et/ou une légende),\n",
    "* \tpréciser la **signification** des différentes lignes et colonnes …\n",
    "*\t… et, au besoin, les **unités** utilisées pour les grandeurs présentées.\n",
    "\n"
   ]
  },
  {
   "cell_type": "markdown",
   "metadata": {
    "slideshow": {
     "slide_type": "subslide"
    }
   },
   "source": [
    "---\n",
    "# 3. Corps du rapport\n",
    "---\n",
    "# 3.2 Forme \n",
    "\n",
    "\n",
    "\n",
    "* Numéroter les **figures**, \n",
    "* leur donner un **titre** (et/ou une légende).\n",
    "\n",
    "S’il s’agit de **graphiques**,\n",
    "\n",
    "* préciser la **signification** des différentes axes …\n",
    "* … ainsi que les **unités** utilisées sur ces **axes**.\n",
    "   \n",
    "Attention à la **résolution et à la lisibilité** !\n",
    "\n",
    "\n",
    "\n",
    "\n"
   ]
  },
  {
   "cell_type": "markdown",
   "metadata": {
    "slideshow": {
     "slide_type": "subslide"
    }
   },
   "source": [
    "# Exemple de figure complète (titre, légende, axes)\n",
    "\n",
    "\n",
    "![Figure 2. Interpolation des points de données](complete_figure.png)\n",
    "\n",
    "Figure 2. Interpolation des points de données"
   ]
  },
  {
   "cell_type": "markdown",
   "metadata": {
    "slideshow": {
     "slide_type": "subslide"
    }
   },
   "source": [
    "# Contre-exemple\n",
    "\n",
    "\n",
    "\n",
    "<img align=\"center\" width=\"360\" src=incomplete_figure.png>\n",
    "\n",
    "<div class=\"alert alert-block alert-danger\">\n",
    "<b> Dans la figure, il manque la légende, les titres des axes et les unités des variables, un titre.\n",
    "</div> \n"
   ]
  },
  {
   "cell_type": "markdown",
   "metadata": {
    "slideshow": {
     "slide_type": "subslide"
    }
   },
   "source": [
    "---\n",
    "# 3. Corps du rapport\n",
    "---\n",
    "# 3.2 Forme\n",
    "Veiller à ce que tous les **tableaux** et toutes les **figures** ou **graphiques** \n",
    "* soient référencés et commentés dans le texte,\n",
    "* apportent réellement « un plus » par rapport au texte.\n",
    "\n"
   ]
  },
  {
   "cell_type": "markdown",
   "metadata": {
    "slideshow": {
     "slide_type": "subslide"
    }
   },
   "source": [
    "# Illustration des résultats\n",
    "\n",
    "Exemple : *Nous utilisons la fonction définie dans le fichier `odefunction.py` où nous avons défini les excitations constantes $u_1(t)=0.01$ et $u_2(t)=1$*\n",
    "\n",
    "*Nous résolvons ce système d'équations différentielles à l'aide de la fonction `solve_ivp` en choisissant arbitrairement un intervalle de temps suffisamment long pour pouvoir observer le comportement des différentes variables au cours du temps grâce à la fonction `pyplot`*\n",
    "\n",
    "<div class=\"alert alert-block alert-danger\">\n",
    "<b> Ici, aucune figure n'était fournie !\n",
    "</div> "
   ]
  },
  {
   "cell_type": "markdown",
   "metadata": {
    "slideshow": {
     "slide_type": "subslide"
    }
   },
   "source": [
    "---\n",
    "# 3. Corps du rapport\n",
    "---\n",
    "# 3.2 Forme\n",
    "Numéroter (toutes) les **équations**."
   ]
  },
  {
   "cell_type": "markdown",
   "metadata": {
    "slideshow": {
     "slide_type": "slide"
    }
   },
   "source": [
    "# 4. Conclusions (et perspectives)\n",
    "\n",
    "Rappeler, **de manière synthétique**, les éléments essentiels du travail ...\n",
    "\n",
    "et annoncer d'éventuelles pistes à investiguer pour le prolonger.\n",
    "\n",
    "<div class=\"alert alert-block alert-danger\">\n",
    "<b> Dans le cadre de ce cours, une conclusion n'est pas attendue.\n",
    "</div> "
   ]
  },
  {
   "cell_type": "markdown",
   "metadata": {
    "slideshow": {
     "slide_type": "slide"
    }
   },
   "source": [
    "# 5. Bibliographie\n",
    "\n",
    "Les sources (livres, articles, …) concrètement exploitées dans le travail doivent être citées aux endroits ad-hoc et listées dans une bibliographie présentée en fin de document.\n",
    "\n",
    "Les citations et la liste de références doivent respecter des normes qui peuvent varier en fonction du contexte.\n"
   ]
  },
  {
   "cell_type": "markdown",
   "metadata": {
    "slideshow": {
     "slide_type": "slide"
    }
   },
   "source": [
    "# 6. Liste des tableaux\n",
    "# 6'. Liste des figures\n",
    "# 7. Table des matières\n",
    "# 8. Annexes \n",
    "\n",
    "Utiles pour faciliter la tâche du lecteur lorsque le document atteint une certaine taille..."
   ]
  },
  {
   "cell_type": "markdown",
   "metadata": {
    "slideshow": {
     "slide_type": "slide"
    }
   },
   "source": [
    "# Concrètement ... pour éviter le syndrome de la feuille blanche\n",
    "\n",
    "J.L. Doumont<sup>*</sup>  propose une démarche itérative en 5 étapes:\n",
    "\n",
    "* <span style=\"color:red\"> Planning:</span> Rassembler ses idées et tout le « matériel » nécessaire\n",
    "* <span style=\"color:red\"> Designing:</span> Définir la structure du document\n",
    "* <span style=\"color:red\"> Drafting:</span> Rédiger les différentes parties\n",
    "* <span style=\"color:red\"> Formatting:</span> Mettre le document en forme\n",
    "* <span style=\"color:red\"> Revising:</span> Relire et corriger\n",
    "\n",
    "---\n",
    "<sup>*</sup> Trees, maps and theorems\n",
    "Effective communication for rational minds.\n",
    "Jean-Luc DOUMONT\n",
    "Principae. Structuring thoughts.\n",
    "Kraaienem. Belgium.\n",
    "2009\n"
   ]
  },
  {
   "cell_type": "markdown",
   "metadata": {
    "slideshow": {
     "slide_type": "subslide"
    }
   },
   "source": [
    "# Concrètement ... pour éviter le syndrome de la feuille blanche\n",
    "\n",
    "La première étape de cette démarche (<span style=\"color:red\"> Planning:</span> )\n",
    "repose sur les réponses aux\n",
    "« 5 questions en W » :\n",
    "\n",
    "Why ?   <span style=\"color:red\"> **Who ?**:</span>    <span style=\"color:red\"> **What ?**:</span>    Where ?   <span style=\"color:red\"> **When ?**:</span> \n",
    "\n",
    "Ces réponses conditionnent le How ?\n",
    "\n"
   ]
  },
  {
   "cell_type": "markdown",
   "metadata": {
    "slideshow": {
     "slide_type": "slide"
    }
   },
   "source": [
    "# Bon travail :)"
   ]
  },
  {
   "cell_type": "code",
   "execution_count": null,
   "metadata": {},
   "outputs": [],
   "source": []
  }
 ],
 "metadata": {
  "celltoolbar": "Slideshow",
  "kernelspec": {
   "display_name": "Python 3",
   "language": "python",
   "name": "python3"
  },
  "language_info": {
   "codemirror_mode": {
    "name": "ipython",
    "version": 3
   },
   "file_extension": ".py",
   "mimetype": "text/x-python",
   "name": "python",
   "nbconvert_exporter": "python",
   "pygments_lexer": "ipython3",
   "version": "3.8.5"
  }
 },
 "nbformat": 4,
 "nbformat_minor": 4
}
